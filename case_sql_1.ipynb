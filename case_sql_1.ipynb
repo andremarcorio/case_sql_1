{
 "cells": [
  {
   "cell_type": "markdown",
   "id": "d96dd19b",
   "metadata": {},
   "source": [
    "#### Enunciado\n",
    "\n",
    "Imagine uma base de dados de uma universidade que contenha as seguintes tabelas e seus respectivos campos organizados da seguinte forma:\n",
    "\n",
    "tabela_alunos → colunas = (ra, nome, endereco, cidade);\n",
    "\n",
    "tabela_disciplinas → colunas = (cod_disc, nome_disc, carga_hor)\n",
    "\n",
    "tabela_professores → colunas = (cod_prof, nome, endereco, cidade)\n",
    "\n",
    "tabela_turma → colunas = (cod_disc, cod_turma, cod_prof, ano, semestre)\n",
    "\n",
    "tabela_historico, colunas = (ra, cod_disc, cod_turma, cod_prof, ano, semestre, frequencia, nota)\n",
    "\n",
    "a) Monte uma consulta que informe quantos alunos cursaram a disciplina de Banco de Dados em 2019 e 2020;\n",
    "\n",
    "b) Monte uma consulta que exiba os nomes dos alunos que não foram reprovados em nenhuma disciplina (considere nota mínima igual a 6 para aprovação).\n"
   ]
  },
  {
   "cell_type": "markdown",
   "id": "016563c9",
   "metadata": {},
   "source": [
    "#### Importar bibliotecas"
   ]
  },
  {
   "cell_type": "code",
   "execution_count": 2,
   "id": "c41c998f",
   "metadata": {},
   "outputs": [],
   "source": [
    "import pandas as pd\n",
    "\n",
    "import numpy as np\n",
    "\n",
    "import sqlite3\n",
    "\n",
    "import sqlalchemy as sa\n",
    "\n",
    "from sqlalchemy import create_engine"
   ]
  },
  {
   "cell_type": "markdown",
   "id": "ecb3a974",
   "metadata": {},
   "source": [
    "#### Criar as tabelas usando pandas"
   ]
  },
  {
   "cell_type": "code",
   "execution_count": 6,
   "id": "b069fa74",
   "metadata": {},
   "outputs": [],
   "source": [
    "# tabela_alunos → colunas = (ra, nome, endereco, cidade);\n",
    "\n",
    "df_alunos = pd.DataFrame(columns = ['ra', 'nome', 'endereço', 'cidade'])\n",
    "\n",
    "df_alunos['ra'] = [1000, 1001, 1002, 1003, 1004, 1005, 1006, 1007, 1008, 1009]\n",
    "df_alunos['nome'] = ['pedro', 'maria', 'jose', 'joao', 'rita', 'julia', 'amanda', 'tiago', 'mateus', 'luis']\n",
    "\n",
    "# tabela_disciplinas → colunas = (cod_disc, nome_disc, carga_hor)\n",
    "\n",
    "df_disciplinas = pd.DataFrame(columns = ['cod_disc', 'nome_disc', 'carga_hor'])\n",
    "\n",
    "df_disciplinas['cod_disc'] = [100, 101, 102, 103]\n",
    "\n",
    "df_disciplinas['nome_disc'] = ['banco de dados', 'fundamentos da programacao', 'matematica', 'estatistica']\n",
    "\n",
    "df_disciplinas['carga_hor'] = [80, 60, 60, 60]\n",
    "\n",
    "# tabela_professores → colunas = (cod_prof, nome, endereco, cidade)\n",
    "\n",
    "df_professores = pd.DataFrame(columns = ['cod_prof', 'nome', 'endereco', 'cidade'])\n",
    "\n",
    "# tabela_turma → colunas = (cod_disc, cod_turma, cod_prof, ano, semestre)\n",
    "\n",
    "df_turma = pd.DataFrame(columns = ['cod_disc', 'cod_turma', 'cod_prof', 'ano', 'semestre'])\n",
    "\n",
    "# tabela_historico, colunas = (ra, cod_disc, cod_turma, cod_prof, ano, semestre, frequencia, nota)\n",
    "\n",
    "df_historico = pd.DataFrame(columns = ['ra', 'cod_disc', 'cod_turma', 'cod_prof', 'ano', 'semestre', 'frequencia', 'nota'])\n",
    "\n",
    "df_historico['ra'] = np.random.randint(1000, 1010, size = 40)\n",
    "\n",
    "df_historico['cod_disc'] = np.random.randint(100, 104, size = 40)\n",
    "\n",
    "df_historico['ano'] = np.random.randint(2018, 2021, size = 40)\n",
    "\n",
    "df_historico['nota'] = np.random.randint(0, 11, size = 40)\n"
   ]
  },
  {
   "cell_type": "markdown",
   "id": "a505b48b",
   "metadata": {},
   "source": [
    "#### Criar um banco de dados e fazer a conexão"
   ]
  },
  {
   "cell_type": "code",
   "execution_count": 9,
   "id": "b46dd104",
   "metadata": {},
   "outputs": [],
   "source": [
    "# Conectar o banco de dados\n",
    "db_case_1 = create_engine( 'sqlite:///db_case_1.sqlite', echo=False )\n",
    "conn = db_case_1.connect()\n",
    "\n",
    "# Criar as tabelas\n",
    "\n",
    "# Tabela alunos\n",
    "schema_alunos = \"\"\"\n",
    "    CREATE TABLE alunos (\n",
    "    ra          TEXT,\n",
    "    nome        TEXT,\n",
    "    endereço    TEXT,\n",
    "    cidade      TEXT\n",
    "    \n",
    ")\n",
    "\"\"\"\n",
    "\n",
    "df_alunos.to_sql( 'alunos', con=conn, if_exists='append', index=False )\n",
    "\n",
    "# Tabela disciplinas\n",
    "\n",
    "schema_disciplinas = \"\"\"\n",
    "    CREATE TABLE disciplinas (\n",
    "    cod_disc     INTEGER,\n",
    "    nome_disc    TEXT,\n",
    "    carga_hor    INTEGER\n",
    "    \n",
    ")\n",
    "\"\"\"\n",
    "\n",
    "df_disciplinas.to_sql( 'disciplinas', con=conn, if_exists='append', index=False )\n",
    "\n",
    "# Tabela historico\n",
    "\n",
    "schema_historico = \"\"\"\n",
    "    CREATE TABLE historico (\n",
    "    ra            TEXT,\n",
    "    cod_disc      INTEGER,\n",
    "    cod_turma     TEXT,\n",
    "    cod_prof      TEXT,\n",
    "    ano           INTEGER,\n",
    "    semestre      TEXT,\n",
    "    frequencia    TEXT,\n",
    "    nota          INTEGER\n",
    "    \n",
    ")\n",
    "\"\"\"\n",
    "\n",
    "df_historico.to_sql( 'historico', con=conn, if_exists='append', index=False )"
   ]
  },
  {
   "cell_type": "markdown",
   "id": "952d0a76",
   "metadata": {},
   "source": [
    "#### Queries"
   ]
  },
  {
   "cell_type": "code",
   "execution_count": 17,
   "id": "d17f8f13",
   "metadata": {},
   "outputs": [
    {
     "data": {
      "text/html": [
       "<div>\n",
       "<style scoped>\n",
       "    .dataframe tbody tr th:only-of-type {\n",
       "        vertical-align: middle;\n",
       "    }\n",
       "\n",
       "    .dataframe tbody tr th {\n",
       "        vertical-align: top;\n",
       "    }\n",
       "\n",
       "    .dataframe thead th {\n",
       "        text-align: right;\n",
       "    }\n",
       "</style>\n",
       "<table border=\"1\" class=\"dataframe\">\n",
       "  <thead>\n",
       "    <tr style=\"text-align: right;\">\n",
       "      <th></th>\n",
       "      <th>total_de_alunos</th>\n",
       "    </tr>\n",
       "  </thead>\n",
       "  <tbody>\n",
       "    <tr>\n",
       "      <th>0</th>\n",
       "      <td>8</td>\n",
       "    </tr>\n",
       "  </tbody>\n",
       "</table>\n",
       "</div>"
      ],
      "text/plain": [
       "   total_de_alunos\n",
       "0                8"
      ]
     },
     "execution_count": 17,
     "metadata": {},
     "output_type": "execute_result"
    }
   ],
   "source": [
    "# a) Quantos alunos cursaram a disciplina de Banco de Dados em 2019 e 2020?\n",
    "\n",
    "query = \"\"\"\n",
    "        select \n",
    "        count (ra) as total_de_alunos\n",
    "        from historico h \n",
    "        where cod_disc = 100 and (ano = 2019 or ano = 2020);\n",
    "        \"\"\"\n",
    "df = pd.read_sql_query( query, conn )\n",
    "df"
   ]
  },
  {
   "cell_type": "code",
   "execution_count": 18,
   "id": "d49ad917",
   "metadata": {},
   "outputs": [
    {
     "data": {
      "text/html": [
       "<div>\n",
       "<style scoped>\n",
       "    .dataframe tbody tr th:only-of-type {\n",
       "        vertical-align: middle;\n",
       "    }\n",
       "\n",
       "    .dataframe tbody tr th {\n",
       "        vertical-align: top;\n",
       "    }\n",
       "\n",
       "    .dataframe thead th {\n",
       "        text-align: right;\n",
       "    }\n",
       "</style>\n",
       "<table border=\"1\" class=\"dataframe\">\n",
       "  <thead>\n",
       "    <tr style=\"text-align: right;\">\n",
       "      <th></th>\n",
       "      <th>nome</th>\n",
       "    </tr>\n",
       "  </thead>\n",
       "  <tbody>\n",
       "    <tr>\n",
       "      <th>0</th>\n",
       "      <td>pedro</td>\n",
       "    </tr>\n",
       "  </tbody>\n",
       "</table>\n",
       "</div>"
      ],
      "text/plain": [
       "    nome\n",
       "0  pedro"
      ]
     },
     "execution_count": 18,
     "metadata": {},
     "output_type": "execute_result"
    }
   ],
   "source": [
    "# b) Quais os nomes dos alunos que não foram reprovados em nenhuma disciplina (considere nota mínima igual a 6 para aprovação)?\n",
    "# Em alguns casos, usar MINUS em vez de EXCEPT.\n",
    "\n",
    "query1 = \"\"\"\n",
    "        select distinct nome\n",
    "        from alunos a left join historico h on (a.ra = h.ra)\n",
    "        where nota >= 6\n",
    "        EXCEPT \n",
    "        select distinct nome\n",
    "        from alunos a left join historico h on (a.ra = h.ra)\n",
    "        where nota < 6;\n",
    "        \"\"\"\n",
    "df1 = pd.read_sql_query( query1, conn )\n",
    "df1        "
   ]
  },
  {
   "cell_type": "code",
   "execution_count": 19,
   "id": "3bfae833",
   "metadata": {},
   "outputs": [],
   "source": [
    "conn.close()"
   ]
  }
 ],
 "metadata": {
  "kernelspec": {
   "display_name": "Python 3 (ipykernel)",
   "language": "python",
   "name": "python3"
  },
  "language_info": {
   "codemirror_mode": {
    "name": "ipython",
    "version": 3
   },
   "file_extension": ".py",
   "mimetype": "text/x-python",
   "name": "python",
   "nbconvert_exporter": "python",
   "pygments_lexer": "ipython3",
   "version": "3.9.7"
  }
 },
 "nbformat": 4,
 "nbformat_minor": 5
}
